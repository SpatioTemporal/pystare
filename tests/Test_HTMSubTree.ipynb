{
 "cells": [
  {
   "cell_type": "code",
   "execution_count": 1,
   "id": "6ce4f5ce",
   "metadata": {},
   "outputs": [],
   "source": [
    "import pystare\n",
    "import numpy"
   ]
  },
  {
   "cell_type": "markdown",
   "id": "44d6c7d7",
   "metadata": {},
   "source": [
    "## I. contains and add_intervals\n",
    "* Check contains() and add_intervals() functions"
   ]
  },
  {
   "cell_type": "code",
   "execution_count": 2,
   "id": "16812afe",
   "metadata": {},
   "outputs": [
    {
     "name": "stdout",
     "output_type": "stream",
     "text": [
      "False\n",
      "True\n"
     ]
    }
   ],
   "source": [
    "d = pystare.srange()\n",
    "print(d.contains(2278628305110597130)) #OK\n",
    "d.add_intervals([2278629908241951402, 2278628982922675882, 2278591990003059051, 2278628305110597130, 2278592394398889355, 2278590972621403051, 2278584699138640267, 2278590886317248235, 2278584833068297163, 2278645771925710699, 2278645935752009067, 2278635600733849834]) #OK\n",
    "print(d.contains(2278628982922675882)) #OK\n",
    "#d.purge()"
   ]
  },
  {
   "cell_type": "markdown",
   "id": "95d2b9ed",
   "metadata": {},
   "source": [
    "## II. add_range"
   ]
  },
  {
   "cell_type": "code",
   "execution_count": 3,
   "id": "5f82c5df",
   "metadata": {},
   "outputs": [],
   "source": [
    "c = pystare.srange()\n",
    "c.add_intervals([2278584833068297163, 2278645771925710699, 2278645935752009067, 2278635600733849834]) #OK\n"
   ]
  },
  {
   "cell_type": "code",
   "execution_count": 17,
   "id": "6251b10b",
   "metadata": {},
   "outputs": [],
   "source": [
    "d.add_range(c)\n",
    "#d.purge() "
   ]
  },
  {
   "cell_type": "markdown",
   "id": "0151f39c",
   "metadata": {},
   "source": [
    "## III. extract_intervals\n",
    "* extract_intervals()\n",
    "* copy_as_intervals() with StareResults"
   ]
  },
  {
   "cell_type": "code",
   "execution_count": 12,
   "id": "2bf3b46a",
   "metadata": {},
   "outputs": [
    {
     "name": "stdout",
     "output_type": "stream",
     "text": [
      "[2278584604132638731 2278584741571592203 2278590788885544971\n",
      " 2278590926324498443 2278591888397172747 2278592300714033163\n",
      " 2278627897402982410 2278628447158796298 2278629546670424074\n",
      " 2278635593984376842 2278645764466933771 2278645901905887243]\n"
     ]
    }
   ],
   "source": [
    "d.extract_intervals()\n",
    "sr = pystare.StareResult()\n",
    "sr.add_intervals(d.sis)\n",
    "temp = numpy.full([sr.get_size_as_intervals()], -1, dtype=numpy.int64)\n",
    "sr.copy_as_intervals(temp)\n",
    "print(temp)"
   ]
  },
  {
   "cell_type": "markdown",
   "id": "5054be6d",
   "metadata": {},
   "source": [
    "## IV. Join\n",
    "* leftJoin()\n",
    "* innerJoin()\n",
    "* fullJoin()"
   ]
  },
  {
   "cell_type": "code",
   "execution_count": 6,
   "id": "3dafda87",
   "metadata": {},
   "outputs": [
    {
     "name": "stdout",
     "output_type": "stream",
     "text": [
      "=========LEFT JOIN==========\n",
      "Stare IDs: \n",
      "[2278584741571592203 2278584741571592203 2278635593984376842\n",
      " 2278635593984376842 2278645764466933771 2278645764466933771\n",
      " 2278645901905887243 2278645901905887243]\n",
      "Offset: \n",
      "[0 2 4 6]\n"
     ]
    }
   ],
   "source": [
    "a, b = pystare.leftJoin(c,d)\n",
    "print(\"=========LEFT JOIN==========\")\n",
    "print(\"Stare IDs: \")\n",
    "print(a)\n",
    "print(\"Offset: \")\n",
    "print(b)\n"
   ]
  },
  {
   "cell_type": "code",
   "execution_count": 7,
   "id": "15703246",
   "metadata": {},
   "outputs": [
    {
     "name": "stdout",
     "output_type": "stream",
     "text": [
      "=========INNER JOIN==========\n",
      "Stare IDs: \n",
      "[2278584741571592203 2278584741571592203 2278635593984376842\n",
      " 2278635593984376842 2278645764466933771 2278645764466933771\n",
      " 2278645901905887243 2278645901905887243]\n",
      "Offset: \n",
      "[0 2 4 6]\n"
     ]
    }
   ],
   "source": [
    "print(\"=========INNER JOIN==========\")\n",
    "a1, b1 = pystare.innerJoin(c,d)\n",
    "print(\"Stare IDs: \")\n",
    "print(a1)\n",
    "print(\"Offset: \")\n",
    "print(b1)\n"
   ]
  },
  {
   "cell_type": "code",
   "execution_count": 8,
   "id": "451add66",
   "metadata": {},
   "outputs": [
    {
     "name": "stdout",
     "output_type": "stream",
     "text": [
      "=========FULL JOIN==========\n",
      "Stare IDs: \n",
      "[2278584604132638731 2278584741571592203 2278584741571592203\n",
      " 2278590788885544971 2278590926324498443 2278591888397172747\n",
      " 2278592300714033163 2278627897402982410 2278628447158796298\n",
      " 2278629546670424074 2278635593984376842 2278635593984376842\n",
      " 2278645764466933771 2278645764466933771 2278645901905887243\n",
      " 2278645901905887243]\n",
      "Offset: \n",
      "[ 0  1  3  4  5  6  7  8  9 10 12 14]\n"
     ]
    }
   ],
   "source": [
    "print(\"=========FULL JOIN==========\")\n",
    "a2, b2 = pystare.fullJoin(c,d)\n",
    "print(\"Stare IDs: \")\n",
    "print(a2)\n",
    "print(\"Offset: \")\n",
    "print(b2)"
   ]
  },
  {
   "cell_type": "code",
   "execution_count": null,
   "id": "57ab4435",
   "metadata": {},
   "outputs": [],
   "source": []
  }
 ],
 "metadata": {
  "kernelspec": {
   "display_name": "Python 3 (ipykernel)",
   "language": "python",
   "name": "python3"
  },
  "language_info": {
   "codemirror_mode": {
    "name": "ipython",
    "version": 3
   },
   "file_extension": ".py",
   "mimetype": "text/x-python",
   "name": "python",
   "nbconvert_exporter": "python",
   "pygments_lexer": "ipython3",
   "version": "3.9.5"
  }
 },
 "nbformat": 4,
 "nbformat_minor": 5
}
