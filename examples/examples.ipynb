{
 "cells": [
  {
   "cell_type": "code",
   "execution_count": 3,
   "id": "significant-reading",
   "metadata": {},
   "outputs": [],
   "source": [
    "import numpy \n",
    "import pystare "
   ]
  },
  {
   "cell_type": "code",
   "execution_count": 4,
   "id": "rational-least",
   "metadata": {},
   "outputs": [
    {
     "name": "stdout",
     "output_type": "stream",
     "text": [
      "0 0x8 0x7ffffffffff\n",
      "1 0x30000000000a 0x67ffffffffff\n",
      "2 0x70000000000a 0x907fffffffff\n",
      "3 -0x3e6 -0x3e7\n",
      "4 0x907fffffffff 0x30\n"
     ]
    }
   ],
   "source": [
    "a = numpy.array([0x0000000000000008, 0x000030000000000a, 0x000067ffffffffff, 0x000070000000000a, 0x0000907fffffffff],dtype=numpy.int64)\n",
    "starts,ends = pystare.from_intervals(a)\n",
    "\n",
    "for i in range(starts.size):\n",
    "  print(i,hex(starts[i]),hex(ends[i]))"
   ]
  },
  {
   "cell_type": "code",
   "execution_count": 5,
   "id": "japanese-skating",
   "metadata": {},
   "outputs": [
    {
     "name": "stdout",
     "output_type": "stream",
     "text": [
      "[4151504989081014892 4161865161846704588 3643626718498217164]\n",
      "[30.00000012 45.00000003 59.99999986] [44.99999991 60.00000013  9.9999999 ]\n",
      "[30.00000012 45.00000003 59.99999986] [44.99999991 60.00000013  9.9999999 ] [12 12 12]\n",
      "[12 12 12]\n",
      "[8.66507750e-08 8.74786654e-08 7.97819113e-08]\n"
     ]
    }
   ],
   "source": [
    "lat = numpy.array([30,45,60], dtype=numpy.double)\n",
    "lon = numpy.array([45,60,10], dtype=numpy.double)\n",
    "\n",
    "\n",
    "indices = pystare.from_latlon(lat, lon, 12)\n",
    "print(indices)\n",
    "\n",
    "lat, lon = pystare.to_latlon(indices)\n",
    "print(lat, lon)\n",
    "\n",
    "lat, lon, level = pystare.to_latlonlevel(indices)\n",
    "print(lat, lon, level)\n",
    "\n",
    "level = pystare.to_level(indices)\n",
    "print(level)\n",
    "\n",
    "area = pystare.to_area(indices)\n",
    "print(area)\n",
    "\n"
   ]
  },
  {
   "cell_type": "code",
   "execution_count": null,
   "id": "dietary-amsterdam",
   "metadata": {},
   "outputs": [],
   "source": []
  }
 ],
 "metadata": {
  "kernelspec": {
   "display_name": "Python 3",
   "language": "python",
   "name": "python3"
  },
  "language_info": {
   "codemirror_mode": {
    "name": "ipython",
    "version": 3
   },
   "file_extension": ".py",
   "mimetype": "text/x-python",
   "name": "python",
   "nbconvert_exporter": "python",
   "pygments_lexer": "ipython3",
   "version": "3.8.10"
  }
 },
 "nbformat": 4,
 "nbformat_minor": 5
}
