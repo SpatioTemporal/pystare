{
 "cells": [
  {
   "cell_type": "markdown",
   "id": "e9e26702",
   "metadata": {},
   "source": [
    "# Temporal Conversions"
   ]
  },
  {
   "cell_type": "code",
   "execution_count": 1,
   "id": "e5eb3551",
   "metadata": {},
   "outputs": [],
   "source": [
    "import pystare\n",
    "import datetime\n",
    "import numpy\n",
    "import erfa\n",
    "import astropy"
   ]
  },
  {
   "cell_type": "markdown",
   "id": "1a637f57",
   "metadata": {},
   "source": [
    "## Conversions"
   ]
  },
  {
   "cell_type": "code",
   "execution_count": 2,
   "id": "15dabf47-f3b8-40e9-9055-f5e511e25abb",
   "metadata": {},
   "outputs": [],
   "source": [
    "import re\n",
    "\n",
    "regex_iso8601 = r'^(-?(?:[1-9][0-9]*)?[0-9]{4})-(1[0-2]|0[1-9])-(3[01]|0[1-9]|[12][0-9])T(2[0-3]|[01][0-9]):([0-5][0-9]):([0-5][0-9])(\\.[0-9]+)?(Z|[+-](?:2[0-3]|[01][0-9]):[0-5][0-9])?$'\n",
    "match_iso8601 = re.compile(regex_iso8601).match\n",
    "\n",
    "\n",
    "regex_stare = r'^(-?(?:[1-9][0-9]*)?[0-9]{4})-(1[0-2]|0[1-9])-(3[01]|0[1-9]|[12][0-9])T(2[0-3]|[01][0-9]):([0-5][0-9]):([0-5][0-9])\\.([0-9]+)?(\\s\\(([0-9]+)\\s([0-9]+)\\)\\s\\(([0-9])\\))$'\n",
    "match_stare = re.compile(regex_stare).match\n",
    "\n",
    "\n",
    "def validate_iso8601(str_val):    \n",
    "    if match_iso8601(str_val) is not None:\n",
    "        return True\n",
    "    else:\n",
    "        return False\n",
    "    \n",
    "def validate_stare_timestring(str_val):\n",
    "    if match_stare(str_val) is not None:\n",
    "        return True\n",
    "    else:\n",
    "        return False\n",
    "    \n",
    "    \n",
    "def stare_timestring(timestamp, forward_res=48, backwards_res=48, stare_type=1, time_standard='UTC'):\n",
    "    if isinstance(timestamp, datetime.datetime):\n",
    "        time_string = timestamp.isoformat()\n",
    "    elif isinstance(timestamp, numpy.datetime64):\n",
    "        time_string = numpy.datetime_as_string(timestamp)\n",
    "    elif isinstance(timestamp, tuple) and len(timestamp) == 2:\n",
    "        # SOFA/ERFA tuple        \n",
    "        time_string = erfa.d2dtf(scale=time_standard, ndp=6,  d1=timestamp[0], d2=timestamp[1])\n",
    "    elif isinstance(timestamp, str) and validate_iso8601(timestamp):\n",
    "        # ISO 8601 timestamp\n",
    "        time_string = timestamp\n",
    "    elif isinstance(timestamp, str) and validate_stare_timestamp(timestamp):\n",
    "        # Already stare timestamp\n",
    "        return timestamp\n",
    "    else:\n",
    "        raise ValueError('unknown input \"' + timestamp + '\"')\n",
    "    suffix = ' ({f_res}) ({b_res}) ({type})'.format(f_res=forward_res, b_res=backwards_res, type=stare_type)\n",
    "    return time_string + suffix\n",
    "\n",
    "        \n",
    "def erfajd_from_timestamp(timestamp, time_scale='UTC'):\n",
    "    if isinstance(timestamp, numpy.datetime64):\n",
    "        timestamp = timestamp.astype(datetime.datetime)\n",
    "    elif isinstance(timestamp, str) and validate_iso8601(timestamp):\n",
    "        timestamp = datetime.datetime.fromisoformat(timestamp)\n",
    "    \n",
    "    if isinstance(timestamp, datetime.datetime):        \n",
    "        erfa_jd = erfa.dtf2d(scale=time_scale, \n",
    "                             iy=timestamp.year, im=timestamp.month, id=timestamp.day, \n",
    "                             ihr=timestamp.hour, imn=timestamp.minute, sec=timestamp.second+timestamp.microsecond/1000/1000)\n",
    "    \n",
    "    return erfa_jd\n",
    "\n",
    "def stare_from_timestamp(timestamp, forward_res=48, backwards_res=48, stare_type=1, time_scale='UTC'):\n",
    "    stare_ts = stare_timestring(timestamp, forward_res, backwards_res, staret_type, time_scale)\n",
    "    pystare.from_tai_iso_string(stare_ts)"
   ]
  },
  {
   "cell_type": "code",
   "execution_count": 3,
   "id": "marine-campbell",
   "metadata": {},
   "outputs": [],
   "source": [
    "ts = '2021-01-09T17:47:56.154564 (45 12) (1)'\n",
    "validate_iso8601('2021-01-09T17:47:56.154564 (45 12) (1)')\n",
    "validate_iso8601('2021-01-09T17:47:56.2435+05:00')\n",
    "match_iso8601(ts)"
   ]
  },
  {
   "cell_type": "markdown",
   "id": "2a19ad57",
   "metadata": {},
   "source": [
    "### UTC MS coversions"
   ]
  },
  {
   "cell_type": "code",
   "execution_count": 4,
   "id": "fewer-thomson",
   "metadata": {},
   "outputs": [
    {
     "data": {
      "text/plain": [
       "array([1629999406000])"
      ]
     },
     "execution_count": 4,
     "metadata": {},
     "output_type": "execute_result"
    }
   ],
   "source": [
    "now = datetime.datetime.now().strftime(\"%Y-%m-%dT%H:%M:%S\")\n",
    "now = numpy.array([now], dtype='datetime64[ms]')\n",
    "now = now.astype(numpy.int64)\n",
    "now"
   ]
  },
  {
   "cell_type": "code",
   "execution_count": 5,
   "id": "wanted-legislation",
   "metadata": {},
   "outputs": [
    {
     "data": {
      "text/plain": [
       "array([2275448110396223681])"
      ]
     },
     "execution_count": 5,
     "metadata": {},
     "output_type": "execute_result"
    }
   ],
   "source": [
    "timestamps = numpy.array(['2021-01-03'], dtype='datetime64[ms]').astype(numpy.int64)\n",
    "pystare.from_ms_since_epoch_utc(timestamps, 48, 48)"
   ]
  },
  {
   "cell_type": "code",
   "execution_count": 6,
   "id": "closing-guyana",
   "metadata": {},
   "outputs": [
    {
     "data": {
      "text/plain": [
       "array(['2021-01-03T00:00:00.000'], dtype='<U42')"
      ]
     },
     "execution_count": 6,
     "metadata": {},
     "output_type": "execute_result"
    }
   ],
   "source": [
    "tivs = [2275448110396223681]\n",
    "ts = pystare.to_ms_since_epoch_utc(tivs).astype('datetime64[ms]')\n",
    "numpy.datetime_as_string(ts)"
   ]
  },
  {
   "cell_type": "code",
   "execution_count": 7,
   "id": "protecting-simulation",
   "metadata": {},
   "outputs": [
    {
     "data": {
      "text/plain": [
       "array([[1, 0],\n",
       "       [0, 1]])"
      ]
     },
     "execution_count": 7,
     "metadata": {},
     "output_type": "execute_result"
    }
   ],
   "source": [
    "ts1 = numpy.array(['2021-01-03T01', '1985-01-03T01'], dtype='datetime64[ms]').astype(numpy.int64)\n",
    "ts2 = numpy.array(['2021-05-01T10', '1986-10-01'], dtype='datetime64[ms]').astype(numpy.int64)\n",
    "tiv1 = pystare.from_ms_since_epoch_utc(ts1, 10, 10)\n",
    "tiv2 = pystare.from_ms_since_epoch_utc(ts2, 10, 10)\n",
    "pystare.cmp_temporal(tiv1, tiv2, flatten=False)"
   ]
  },
  {
   "cell_type": "markdown",
   "id": "aquatic-rescue",
   "metadata": {},
   "source": [
    "### Resolutions"
   ]
  },
  {
   "cell_type": "code",
   "execution_count": 8,
   "id": "analyzed-surrey",
   "metadata": {},
   "outputs": [
    {
     "data": {
      "text/plain": [
       "array([48, 38, 32, 26, 21, 12])"
      ]
     },
     "execution_count": 8,
     "metadata": {},
     "output_type": "execute_result"
    }
   ],
   "source": [
    "millisecond  = 1\n",
    "second = 1000 * millisecond\n",
    "minute = 60 * second\n",
    "hour = 60 * minute\n",
    "day = 86400 * second\n",
    "year = 365 * day\n",
    "times = numpy.array([millisecond, second, minute, hour, day, year], dtype=numpy.int64)\n",
    "pystare.coarsest_resolution_finer_or_equal_ms(times)"
   ]
  },
  {
   "cell_type": "markdown",
   "id": "improved-compensation",
   "metadata": {},
   "source": [
    "### Iso Strings"
   ]
  },
  {
   "cell_type": "code",
   "execution_count": 9,
   "id": "fleet-market",
   "metadata": {},
   "outputs": [
    {
     "data": {
      "text/plain": [
       "'2021-08-26T17:03:56.600'"
      ]
     },
     "execution_count": 9,
     "metadata": {},
     "output_type": "execute_result"
    }
   ],
   "source": [
    "def pad3(s):\n",
    "    s = s.ljust(4, '0')\n",
    "    s=s[0:4]\n",
    "    return s\n",
    "\n",
    "s = '2021-08-26T17:03:56.6'\n",
    "ms = match_iso8601(s).groups()[6]\n",
    "s.replace(ms, pad3(ms))"
   ]
  },
  {
   "cell_type": "code",
   "execution_count": 10,
   "id": "martial-declaration",
   "metadata": {},
   "outputs": [
    {
     "data": {
      "text/plain": [
       "array([2276038620409631817])"
      ]
     },
     "execution_count": 10,
     "metadata": {},
     "output_type": "execute_result"
    }
   ],
   "source": [
    "time_strings = ['2021-08-26T17:03:56.6']\n",
    "pystare.from_iso_strings(time_strings, forward_res=20, reverse_res=18)"
   ]
  },
  {
   "cell_type": "code",
   "execution_count": 21,
   "id": "severe-petersburg",
   "metadata": {},
   "outputs": [
    {
     "data": {
      "text/plain": [
       "array([2276038620410065089])"
      ]
     },
     "execution_count": 21,
     "metadata": {},
     "output_type": "execute_result"
    }
   ],
   "source": [
    "time_strings = ['2021-08-26T17:03:56.626 (48 48) (1)']\n",
    "tiv = pystare.from_stare_timestrings(time_strings, scale='TAI')\n",
    "tiv"
   ]
  },
  {
   "cell_type": "code",
   "execution_count": 23,
   "id": "raising-riverside",
   "metadata": {},
   "outputs": [
    {
     "data": {
      "text/plain": [
       "True"
      ]
     },
     "execution_count": 23,
     "metadata": {},
     "output_type": "execute_result"
    }
   ],
   "source": [
    "pystare.to_stare_timestring(tiv) == time_strings"
   ]
  },
  {
   "cell_type": "code",
   "execution_count": 40,
   "id": "measured-range",
   "metadata": {},
   "outputs": [
    {
     "data": {
      "text/plain": [
       "['2021-08-26T17:03:56.626 (48 48) (1)']"
      ]
     },
     "execution_count": 40,
     "metadata": {},
     "output_type": "execute_result"
    }
   ],
   "source": [
    "pystare.to_stare_timestring(tiv)"
   ]
  },
  {
   "cell_type": "markdown",
   "id": "subtle-grounds",
   "metadata": {},
   "source": [
    "### JDs"
   ]
  },
  {
   "cell_type": "code",
   "execution_count": 13,
   "id": "c96aafa8-47a9-439c-a139-f90501ef85d4",
   "metadata": {},
   "outputs": [
    {
     "data": {
      "text/plain": [
       "True"
      ]
     },
     "execution_count": 13,
     "metadata": {},
     "output_type": "execute_result"
    }
   ],
   "source": [
    "now = datetime.datetime.now()\n",
    "jd1 = erfajd_from_timestamp(now)\n",
    "jd2 = erfajd_from_timestamp(now.isoformat())\n",
    "jd3 = erfajd_from_timestamp(numpy.datetime64(now))\n",
    "jd1 == jd2 == jd3"
   ]
  },
  {
   "cell_type": "code",
   "execution_count": 14,
   "id": "950e3b53-739b-49af-8164-08cc3a2dac2f",
   "metadata": {},
   "outputs": [
    {
     "data": {
      "text/plain": [
       "17.616"
      ]
     },
     "execution_count": 14,
     "metadata": {},
     "output_type": "execute_result"
    }
   ],
   "source": [
    "erfa.jdcalf(3, *jd1)[-1]/1000*24"
   ]
  },
  {
   "cell_type": "code",
   "execution_count": 36,
   "id": "hired-range",
   "metadata": {},
   "outputs": [
    {
     "data": {
      "text/plain": [
       "'2021-08-26T17:36:46.426092'"
      ]
     },
     "execution_count": 36,
     "metadata": {},
     "output_type": "execute_result"
    }
   ],
   "source": [
    "now.isoformat()"
   ]
  },
  {
   "cell_type": "code",
   "execution_count": 37,
   "id": "mobile-berkeley",
   "metadata": {},
   "outputs": [
    {
     "data": {
      "text/plain": [
       "(2459453.0, 0.23387067236111114)"
      ]
     },
     "execution_count": 37,
     "metadata": {},
     "output_type": "execute_result"
    }
   ],
   "source": [
    "from astropy import time\n",
    "t = time.Time(now.isoformat(), format='isot')\n",
    "t.jd1, t.jd2"
   ]
  },
  {
   "cell_type": "code",
   "execution_count": 41,
   "id": "51c1c890",
   "metadata": {},
   "outputs": [
    {
     "data": {
      "text/plain": [
       "(array([2459215.5]), array([237.71107206]))"
      ]
     },
     "execution_count": 41,
     "metadata": {},
     "output_type": "execute_result"
    }
   ],
   "source": [
    "pystare.to_julian_tai(tiv)"
   ]
  },
  {
   "cell_type": "code",
   "execution_count": 42,
   "id": "7ad5aed8-2d34-4e0f-a19a-871a3745d8be",
   "metadata": {},
   "outputs": [
    {
     "data": {
      "text/plain": [
       "array([2276038620410065089])"
      ]
     },
     "execution_count": 42,
     "metadata": {},
     "output_type": "execute_result"
    }
   ],
   "source": [
    "tiv"
   ]
  },
  {
   "cell_type": "markdown",
   "id": "598c3559",
   "metadata": {},
   "source": [
    "### Temporal Triple"
   ]
  },
  {
   "cell_type": "code",
   "execution_count": 24,
   "id": "da3ca012",
   "metadata": {},
   "outputs": [
    {
     "data": {
      "text/plain": [
       "(array([2276038620410036477]),\n",
       " array([2276038620410065089]),\n",
       " array([2276038620410085373]))"
      ]
     },
     "execution_count": 24,
     "metadata": {},
     "output_type": "execute_result"
    }
   ],
   "source": [
    "triple = pystare.to_temporal_triple_tai(tiv)\n",
    "triple = pystare.to_temporal_triple_ms(tiv)\n",
    "triple"
   ]
  },
  {
   "cell_type": "code",
   "execution_count": 25,
   "id": "7621ebfc",
   "metadata": {},
   "outputs": [
    {
     "data": {
      "text/plain": [
       "array([2276038620410065089])"
      ]
     },
     "execution_count": 25,
     "metadata": {},
     "output_type": "execute_result"
    }
   ],
   "source": [
    "pystare.from_temporal_triple(numpy.array(triple).flatten())"
   ]
  },
  {
   "cell_type": "markdown",
   "id": "981dc7ae",
   "metadata": {},
   "source": [
    "### Julian TAI"
   ]
  },
  {
   "cell_type": "code",
   "execution_count": 26,
   "id": "6bef6bb4",
   "metadata": {},
   "outputs": [
    {
     "data": {
      "text/plain": [
       "(2021, 2, 1, 0.5)"
      ]
     },
     "execution_count": 26,
     "metadata": {},
     "output_type": "execute_result"
    }
   ],
   "source": [
    "time = datetime.datetime(2021,2,1,12,0)\n",
    "time_tuple = time.timetuple()\n",
    "\n",
    "time = erfa.dtf2d(\"UTC\", *time_tuple[0:6])\n",
    "erfa.jd2cal(*time)"
   ]
  },
  {
   "cell_type": "code",
   "execution_count": 30,
   "id": "1277749e",
   "metadata": {},
   "outputs": [
    {
     "data": {
      "text/plain": [
       "array([2275521502176608257])"
      ]
     },
     "execution_count": 30,
     "metadata": {},
     "output_type": "execute_result"
    }
   ],
   "source": [
    "pystare.from_julian_tai(numpy.array([time[0]]), \n",
    "                       numpy.array([time[1]]))"
   ]
  },
  {
   "cell_type": "code",
   "execution_count": 31,
   "id": "fe6188d4-3917-4e64-9470-4d44fce1802d",
   "metadata": {},
   "outputs": [
    {
     "data": {
      "text/plain": [
       "array([2275521502797365249])"
      ]
     },
     "execution_count": 31,
     "metadata": {},
     "output_type": "execute_result"
    }
   ],
   "source": [
    "pystare.from_julian_utc(numpy.array([time[0]]), \n",
    "                       numpy.array([time[1]]))"
   ]
  },
  {
   "cell_type": "code",
   "execution_count": 32,
   "id": "99f54913",
   "metadata": {},
   "outputs": [
    {
     "ename": "AttributeError",
     "evalue": "module 'pystare' has no attribute 'to_JulianTAI'",
     "output_type": "error",
     "traceback": [
      "\u001b[0;31m---------------------------------------------------------------------------\u001b[0m",
      "\u001b[0;31mAttributeError\u001b[0m                            Traceback (most recent call last)",
      "\u001b[0;32m<ipython-input-32-03f5bc55736b>\u001b[0m in \u001b[0;36m<module>\u001b[0;34m\u001b[0m\n\u001b[0;32m----> 1\u001b[0;31m \u001b[0mt\u001b[0m \u001b[0;34m=\u001b[0m \u001b[0mpystare\u001b[0m\u001b[0;34m.\u001b[0m\u001b[0mto_JulianTAI\u001b[0m\u001b[0;34m(\u001b[0m\u001b[0mtiv\u001b[0m\u001b[0;34m)\u001b[0m\u001b[0;34m\u001b[0m\u001b[0;34m\u001b[0m\u001b[0m\n\u001b[0m\u001b[1;32m      2\u001b[0m \u001b[0mt\u001b[0m \u001b[0;34m=\u001b[0m \u001b[0mpystare\u001b[0m\u001b[0;34m.\u001b[0m\u001b[0mto_JulianUTC\u001b[0m\u001b[0;34m(\u001b[0m\u001b[0mtiv\u001b[0m\u001b[0;34m)\u001b[0m\u001b[0;34m\u001b[0m\u001b[0;34m\u001b[0m\u001b[0m\n\u001b[1;32m      3\u001b[0m \u001b[0mt\u001b[0m\u001b[0;34m\u001b[0m\u001b[0;34m\u001b[0m\u001b[0m\n",
      "\u001b[0;31mAttributeError\u001b[0m: module 'pystare' has no attribute 'to_JulianTAI'"
     ]
    }
   ],
   "source": [
    "t = pystare.to_JulianTAI(tiv)\n",
    "t = pystare.to_JulianUTC(tiv)\n",
    "t"
   ]
  },
  {
   "cell_type": "markdown",
   "id": "7ecdb758-c93c-4139-a8a5-1b38914059ca",
   "metadata": {},
   "source": [
    "## Bounds"
   ]
  },
  {
   "cell_type": "code",
   "execution_count": null,
   "id": "c0ff6fad",
   "metadata": {},
   "outputs": [],
   "source": [
    "pystare.lowerBoundTAI\n",
    "pystare.upperBoundTAI\n",
    "pystare.lowerBoundMS\n",
    "pystare.upperBoundMS"
   ]
  },
  {
   "cell_type": "markdown",
   "id": "833dad8e",
   "metadata": {},
   "source": [
    "## Resolution "
   ]
  },
  {
   "cell_type": "code",
   "execution_count": null,
   "id": "1f6519d3",
   "metadata": {},
   "outputs": [],
   "source": [
    "set_reverse_resolution\n",
    "set_forward_resolution\n",
    "reverse_resolution\n",
    "forward_resolution\n",
    "coarsen\n",
    "set_temporal_resolutions_from_sorted\n",
    "coarsest_resolution_finer_or_equal_ms"
   ]
  },
  {
   "cell_type": "markdown",
   "id": "0892bafe",
   "metadata": {},
   "source": [
    "## Comparison"
   ]
  },
  {
   "cell_type": "code",
   "execution_count": null,
   "id": "2e907cfc",
   "metadata": {},
   "outputs": [],
   "source": [
    "cmp_temporal\n",
    "\n",
    "temporalValueIntersectionIfOverlap\n",
    "temporalValueUnionIfOverlap\n",
    "temporalOverlapTAI\n",
    "temporalOverlap\n",
    "temporalContainsInstant"
   ]
  }
 ],
 "metadata": {
  "kernelspec": {
   "display_name": "Python 3",
   "language": "python",
   "name": "python3"
  },
  "language_info": {
   "codemirror_mode": {
    "name": "ipython",
    "version": 3
   },
   "file_extension": ".py",
   "mimetype": "text/x-python",
   "name": "python",
   "nbconvert_exporter": "python",
   "pygments_lexer": "ipython3",
   "version": "3.8.10"
  }
 },
 "nbformat": 4,
 "nbformat_minor": 5
}
