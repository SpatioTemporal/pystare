{
 "cells": [
  {
   "cell_type": "markdown",
   "id": "e9e26702",
   "metadata": {},
   "source": [
    "# Temporal Conversions"
   ]
  },
  {
   "cell_type": "code",
   "execution_count": 49,
   "id": "e5eb3551",
   "metadata": {},
   "outputs": [],
   "source": [
    "import pystare\n",
    "import datetime\n",
    "import numpy\n",
    "#import astropy.time\n",
    "\n",
    "from astropy import time"
   ]
  },
  {
   "cell_type": "markdown",
   "id": "d093caaf-8996-4e20-aad9-366ed9daac3f",
   "metadata": {},
   "source": [
    "## Full circle"
   ]
  },
  {
   "cell_type": "code",
   "execution_count": 57,
   "id": "8217b5b0-c91a-4a32-9834-265faf2cc307",
   "metadata": {},
   "outputs": [
    {
     "data": {
      "text/plain": [
       "array([2276059438861267137, 2275939265676325057])"
      ]
     },
     "execution_count": 57,
     "metadata": {},
     "output_type": "execute_result"
    }
   ],
   "source": [
    "# Create the TIVs\n",
    "times = numpy.array(['2021-09-03', '2021-07-17 11:16'], dtype='datetime64')\n",
    "times = time.Time(times, scale='utc', format='datetime64')\n",
    "tivs = pystare.from_julian_date(times.jd1, times.jd2, \n",
    "                                scale='utc', \n",
    "                                forward_res=48, reverse_res=48)\n",
    "tivs"
   ]
  },
  {
   "cell_type": "code",
   "execution_count": 55,
   "id": "5ebc15b3-351c-4b90-9df9-fd90ad5cb0f2",
   "metadata": {},
   "outputs": [
    {
     "data": {
      "text/plain": [
       "array([datetime.datetime(2021, 9, 3, 0, 0),\n",
       "       datetime.datetime(2021, 7, 17, 11, 16)], dtype=object)"
      ]
     },
     "execution_count": 55,
     "metadata": {},
     "output_type": "execute_result"
    }
   ],
   "source": [
    "# Back via JD\n",
    "jd = pystare.to_julian_date(tivs, scale='utc')\n",
    "times = astropy.time.Time(val=jd[0], val2=jd[1], format='jd')\n",
    "times.to_datetime()"
   ]
  },
  {
   "cell_type": "code",
   "execution_count": 56,
   "id": "d9701dfd-77a6-4452-a364-7f2eabf7a1d5",
   "metadata": {},
   "outputs": [
    {
     "data": {
      "text/plain": [
       "['2021-09-03T00:00:00', '2021-07-17T11:16:00']"
      ]
     },
     "execution_count": 56,
     "metadata": {},
     "output_type": "execute_result"
    }
   ],
   "source": [
    "# Back via MS\n",
    "mss = pystare.to_ms_since_epoch_utc(tivs)\n",
    "dts = [datetime.datetime.utcfromtimestamp(ms/1000) for ms in mss]\n",
    "[dt.isoformat() for dt in dts]"
   ]
  },
  {
   "cell_type": "markdown",
   "id": "1a637f57",
   "metadata": {},
   "source": [
    "## Valudations"
   ]
  },
  {
   "cell_type": "code",
   "execution_count": 7,
   "id": "surgical-estonia",
   "metadata": {},
   "outputs": [
    {
     "data": {
      "text/plain": [
       "True"
      ]
     },
     "execution_count": 7,
     "metadata": {},
     "output_type": "execute_result"
    }
   ],
   "source": [
    "pystare.validate_stare_timestring('2021-01-09T17:47:56.154 (45 12) (1)')"
   ]
  },
  {
   "cell_type": "code",
   "execution_count": 8,
   "id": "ad07c1d1-2cba-44e0-9bd7-4cda080b5ebc",
   "metadata": {},
   "outputs": [
    {
     "data": {
      "text/plain": [
       "True"
      ]
     },
     "execution_count": 8,
     "metadata": {},
     "output_type": "execute_result"
    }
   ],
   "source": [
    "pystare.validate_iso8601_string('2021-01-09T17:47:56.2435+05:00')"
   ]
  },
  {
   "cell_type": "markdown",
   "id": "2a19ad57",
   "metadata": {},
   "source": [
    "### UTC MS coversions"
   ]
  },
  {
   "cell_type": "code",
   "execution_count": 9,
   "id": "checked-drive",
   "metadata": {},
   "outputs": [
    {
     "data": {
      "text/plain": [
       "array([1633457355000])"
      ]
     },
     "execution_count": 9,
     "metadata": {},
     "output_type": "execute_result"
    }
   ],
   "source": [
    "now = datetime.datetime.now().strftime(\"%Y-%m-%dT%H:%M:%S\")\n",
    "now = numpy.array([now], dtype='datetime64[ms]')\n",
    "now = now.astype(numpy.int64)\n",
    "now"
   ]
  },
  {
   "cell_type": "code",
   "execution_count": 10,
   "id": "finished-cincinnati",
   "metadata": {},
   "outputs": [
    {
     "data": {
      "text/plain": [
       "array([2275448110396223681])"
      ]
     },
     "execution_count": 10,
     "metadata": {},
     "output_type": "execute_result"
    }
   ],
   "source": [
    "timestamps = numpy.array(['2021-01-03'], dtype='datetime64[ms]').astype(numpy.int64)\n",
    "pystare.from_ms_since_epoch_utc(timestamps, 48, 48)"
   ]
  },
  {
   "cell_type": "code",
   "execution_count": 11,
   "id": "protective-subdivision",
   "metadata": {},
   "outputs": [
    {
     "data": {
      "text/plain": [
       "array(['2021-01-03T00:00:00.000'], dtype='<U42')"
      ]
     },
     "execution_count": 11,
     "metadata": {},
     "output_type": "execute_result"
    }
   ],
   "source": [
    "tivs = [2275448110396223681]\n",
    "ts = pystare.to_ms_since_epoch_utc(tivs).astype('datetime64[ms]')\n",
    "numpy.datetime_as_string(ts)"
   ]
  },
  {
   "cell_type": "code",
   "execution_count": 12,
   "id": "precise-indication",
   "metadata": {},
   "outputs": [
    {
     "data": {
      "text/plain": [
       "array([[1, 0],\n",
       "       [0, 1]])"
      ]
     },
     "execution_count": 12,
     "metadata": {},
     "output_type": "execute_result"
    }
   ],
   "source": [
    "ts1 = numpy.array(['2021-01-03T01', '1985-01-03T01'], dtype='datetime64[ms]').astype(numpy.int64)\n",
    "ts2 = numpy.array(['2021-05-01T10', '1986-10-01'], dtype='datetime64[ms]').astype(numpy.int64)\n",
    "tiv1 = pystare.from_ms_since_epoch_utc(ts1, 10, 10)\n",
    "tiv2 = pystare.from_ms_since_epoch_utc(ts2, 10, 10)\n",
    "pystare.cmp_temporal(tiv1, tiv2, flatten=False)"
   ]
  },
  {
   "cell_type": "markdown",
   "id": "cordless-eligibility",
   "metadata": {},
   "source": [
    "### Resolutions"
   ]
  },
  {
   "cell_type": "code",
   "execution_count": 15,
   "id": "sporting-amazon",
   "metadata": {},
   "outputs": [
    {
     "data": {
      "text/plain": [
       "array([48, 38, 32, 26, 21, 12])"
      ]
     },
     "execution_count": 15,
     "metadata": {},
     "output_type": "execute_result"
    }
   ],
   "source": [
    "millisecond  = 1\n",
    "second = 1000 * millisecond\n",
    "minute = 60 * second\n",
    "hour = 60 * minute\n",
    "day = 86400 * second\n",
    "year = 365 * day\n",
    "times = numpy.array([millisecond, second, minute, hour, day, year], dtype=numpy.int64)\n",
    "pystare.coarsest_resolution_finer_or_equal_ms(times)"
   ]
  },
  {
   "cell_type": "code",
   "execution_count": 16,
   "id": "secure-bullet",
   "metadata": {},
   "outputs": [
    {
     "data": {
      "text/plain": [
       "array([2270946778511573245, 2230414381613580541])"
      ]
     },
     "execution_count": 16,
     "metadata": {},
     "output_type": "execute_result"
    }
   ],
   "source": [
    "pystare.reverse_resolution(tiv1)\n",
    "pystare.set_reverse_resolution(tiv1, numpy.array([9, 20]))\n",
    "\n",
    "pystare.lower_bound_tai(tiv1)"
   ]
  },
  {
   "cell_type": "markdown",
   "id": "plain-september",
   "metadata": {},
   "source": [
    "### Iso Strings"
   ]
  },
  {
   "cell_type": "code",
   "execution_count": 18,
   "id": "designed-cancer",
   "metadata": {},
   "outputs": [
    {
     "data": {
      "text/plain": [
       "array([2276038620409631817])"
      ]
     },
     "execution_count": 18,
     "metadata": {},
     "output_type": "execute_result"
    }
   ],
   "source": [
    "time_strings = ['2021-08-26T17:03:56.6']\n",
    "pystare.from_iso_strings(time_strings, forward_res=20, reverse_res=18)"
   ]
  },
  {
   "cell_type": "code",
   "execution_count": 19,
   "id": "victorian-ireland",
   "metadata": {},
   "outputs": [
    {
     "data": {
      "text/plain": [
       "array([2276038620410065089])"
      ]
     },
     "execution_count": 19,
     "metadata": {},
     "output_type": "execute_result"
    }
   ],
   "source": [
    "time_strings = ['2021-08-26T17:03:56.626 (48 48) (1)']\n",
    "tiv = pystare.from_stare_timestrings(time_strings, scale='TAI')\n",
    "tiv"
   ]
  },
  {
   "cell_type": "code",
   "execution_count": 20,
   "id": "intended-flesh",
   "metadata": {},
   "outputs": [
    {
     "data": {
      "text/plain": [
       "True"
      ]
     },
     "execution_count": 20,
     "metadata": {},
     "output_type": "execute_result"
    }
   ],
   "source": [
    "pystare.to_stare_timestring(tiv) == time_strings"
   ]
  },
  {
   "cell_type": "code",
   "execution_count": 21,
   "id": "latter-therapy",
   "metadata": {},
   "outputs": [
    {
     "data": {
      "text/plain": [
       "['2021-08-26T17:03:56.626 (48 48) (1)']"
      ]
     },
     "execution_count": 21,
     "metadata": {},
     "output_type": "execute_result"
    }
   ],
   "source": [
    "pystare.to_stare_timestring(tiv)"
   ]
  },
  {
   "cell_type": "markdown",
   "id": "minus-flight",
   "metadata": {},
   "source": [
    "### JDs"
   ]
  },
  {
   "cell_type": "code",
   "execution_count": 29,
   "id": "optical-reynolds",
   "metadata": {},
   "outputs": [
    {
     "name": "stdout",
     "output_type": "stream",
     "text": [
      "[2459493.] [0.25661248]\n"
     ]
    }
   ],
   "source": [
    "t = time.Time(now.isoformat(), format='isot')\n",
    "jd1 = numpy.array([t.jd1])\n",
    "jd2 = numpy.array([t.jd2])\n",
    "print(jd1, jd2)"
   ]
  },
  {
   "cell_type": "code",
   "execution_count": 27,
   "id": "15137e73-1bd6-48cc-9c18-4b8bb5949cec",
   "metadata": {},
   "outputs": [],
   "source": [
    "tiv = pystare.from_julian_date(jd1, jd2, scale='tai')"
   ]
  },
  {
   "cell_type": "code",
   "execution_count": 30,
   "id": "51c1c890",
   "metadata": {},
   "outputs": [
    {
     "data": {
      "text/plain": [
       "(array([2459215.5]), array([277.75661248]))"
      ]
     },
     "execution_count": 30,
     "metadata": {},
     "output_type": "execute_result"
    }
   ],
   "source": [
    "pystare.to_julian_date(tiv, scale='tai')"
   ]
  },
  {
   "cell_type": "markdown",
   "id": "598c3559",
   "metadata": {},
   "source": [
    "### Temporal Triple"
   ]
  },
  {
   "cell_type": "code",
   "execution_count": 31,
   "id": "da3ca012",
   "metadata": {},
   "outputs": [
    {
     "data": {
      "text/plain": [
       "(array([2276139850217242877]),\n",
       " array([2276139850217271489]),\n",
       " array([2276139850217291773]))"
      ]
     },
     "execution_count": 31,
     "metadata": {},
     "output_type": "execute_result"
    }
   ],
   "source": [
    "triple = pystare.to_temporal_triple_tai(tiv)\n",
    "triple = pystare.to_temporal_triple_ms(tiv)\n",
    "triple"
   ]
  },
  {
   "cell_type": "code",
   "execution_count": 32,
   "id": "7621ebfc",
   "metadata": {},
   "outputs": [
    {
     "data": {
      "text/plain": [
       "array([2276139850217271489])"
      ]
     },
     "execution_count": 32,
     "metadata": {},
     "output_type": "execute_result"
    }
   ],
   "source": [
    "pystare.from_temporal_triple(numpy.array(triple).flatten())"
   ]
  },
  {
   "cell_type": "markdown",
   "id": "981dc7ae",
   "metadata": {},
   "source": [
    "### Julian TAI"
   ]
  },
  {
   "cell_type": "code",
   "execution_count": 33,
   "id": "6bef6bb4",
   "metadata": {},
   "outputs": [
    {
     "name": "stdout",
     "output_type": "stream",
     "text": [
      "2459246.5 0.5\n"
     ]
    }
   ],
   "source": [
    "time = datetime.datetime(2021,2,1,12,0)\n",
    "time_tuple = time.timetuple()\n",
    "\n",
    "time = erfa.dtf2d(\"UTC\", *time_tuple[0:6])\n",
    "print(time[0], time[1])"
   ]
  },
  {
   "cell_type": "code",
   "execution_count": 34,
   "id": "1277749e",
   "metadata": {},
   "outputs": [
    {
     "data": {
      "text/plain": [
       "array([2275521502176620737])"
      ]
     },
     "execution_count": 34,
     "metadata": {},
     "output_type": "execute_result"
    }
   ],
   "source": [
    "tiv_tai = pystare.from_julian_date(jd1=numpy.array([time[0]]), \n",
    "                                   jd2=numpy.array([time[1]]),\n",
    "                                   scale='tai')\n",
    "tiv_tai"
   ]
  },
  {
   "cell_type": "code",
   "execution_count": 35,
   "id": "fe6188d4-3917-4e64-9470-4d44fce1802d",
   "metadata": {},
   "outputs": [
    {
     "data": {
      "text/plain": [
       "array([2275521502797377729])"
      ]
     },
     "execution_count": 35,
     "metadata": {},
     "output_type": "execute_result"
    }
   ],
   "source": [
    "tiv_utc = pystare.from_julian_date(jd1=numpy.array([time[0]]), \n",
    "                                   jd2=numpy.array([time[1]]),\n",
    "                                   scale='utc')\n",
    "tiv_utc"
   ]
  },
  {
   "cell_type": "code",
   "execution_count": 36,
   "id": "99f54913",
   "metadata": {},
   "outputs": [
    {
     "data": {
      "text/plain": [
       "(array([2459215.5]), array([31.5]))"
      ]
     },
     "execution_count": 36,
     "metadata": {},
     "output_type": "execute_result"
    }
   ],
   "source": [
    "pystare.to_julian_date(tiv_tai, scale='tai')"
   ]
  },
  {
   "cell_type": "code",
   "execution_count": 37,
   "id": "e7cc8bef-ab3f-45a0-903e-0fe8220bc1df",
   "metadata": {},
   "outputs": [
    {
     "data": {
      "text/plain": [
       "(array([2459215.5]), array([31.5]))"
      ]
     },
     "execution_count": 37,
     "metadata": {},
     "output_type": "execute_result"
    }
   ],
   "source": [
    "pystare.to_julian_date(tiv_utc, scale='utc')"
   ]
  },
  {
   "cell_type": "markdown",
   "id": "7ecdb758-c93c-4139-a8a5-1b38914059ca",
   "metadata": {},
   "source": [
    "## Bounds"
   ]
  },
  {
   "cell_type": "code",
   "execution_count": 38,
   "id": "c0ff6fad",
   "metadata": {},
   "outputs": [
    {
     "data": {
      "text/plain": [
       "array([2275521502797398013])"
      ]
     },
     "execution_count": 38,
     "metadata": {},
     "output_type": "execute_result"
    }
   ],
   "source": [
    "pystare.lower_bound_tai(tiv_tai)\n",
    "pystare.upper_bound_tai(tiv_tai)\n",
    "pystare.lower_bound_ms(tiv_utc)\n",
    "pystare.upper_bound_ms(tiv_utc)"
   ]
  },
  {
   "cell_type": "markdown",
   "id": "833dad8e",
   "metadata": {},
   "source": [
    "## Resolution "
   ]
  },
  {
   "cell_type": "code",
   "execution_count": 39,
   "id": "1f6519d3",
   "metadata": {},
   "outputs": [
    {
     "data": {
      "text/plain": [
       "<function pystare.temporal.coarsest_resolution_finer_or_equal_ms(ms)>"
      ]
     },
     "execution_count": 39,
     "metadata": {},
     "output_type": "execute_result"
    }
   ],
   "source": [
    "pystare.set_reverse_resolution\n",
    "pystare.set_forward_resolution\n",
    "pystare.reverse_resolution\n",
    "pystare.forward_resolution\n",
    "pystare.coarsen\n",
    "pystare.set_temporal_resolutions_from_sorted\n",
    "pystare.coarsest_resolution_finer_or_equal_ms"
   ]
  },
  {
   "cell_type": "markdown",
   "id": "0892bafe",
   "metadata": {},
   "source": [
    "## Comparison"
   ]
  },
  {
   "cell_type": "code",
   "execution_count": 40,
   "id": "2e907cfc",
   "metadata": {},
   "outputs": [
    {
     "data": {
      "text/plain": [
       "<function pystare.temporal.temporal_contains_instant(indices1, indices2)>"
      ]
     },
     "execution_count": 40,
     "metadata": {},
     "output_type": "execute_result"
    }
   ],
   "source": [
    "pystare.cmp_temporal\n",
    "\n",
    "pystare.temporal_value_intersection_if_overlap\n",
    "pystare.temporal_value_union_if_overlap\n",
    "pystare.temporal_overlap_tai\n",
    "pystare.temporal_overlap\n",
    "pystare.temporal_contains_instant"
   ]
  },
  {
   "cell_type": "code",
   "execution_count": null,
   "id": "05d40f9f-1d29-4beb-81ef-0228283af0e1",
   "metadata": {},
   "outputs": [],
   "source": []
  }
 ],
 "metadata": {
  "kernelspec": {
   "display_name": "Python 3 (ipykernel)",
   "language": "python",
   "name": "python3"
  },
  "language_info": {
   "codemirror_mode": {
    "name": "ipython",
    "version": 3
   },
   "file_extension": ".py",
   "mimetype": "text/x-python",
   "name": "python",
   "nbconvert_exporter": "python",
   "pygments_lexer": "ipython3",
   "version": "3.8.10"
  }
 },
 "nbformat": 4,
 "nbformat_minor": 5
}