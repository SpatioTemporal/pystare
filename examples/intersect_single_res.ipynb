{
 "cells": [
  {
   "cell_type": "markdown",
   "metadata": {},
   "source": [
    "# Intersecting SIDs"
   ]
  },
  {
   "cell_type": "code",
   "execution_count": 1,
   "metadata": {
    "tags": []
   },
   "outputs": [],
   "source": [
    "import matplotlib.pyplot as plt\n",
    "import matplotlib.tri as tri\n",
    "import cartopy.crs as ccrs\n",
    "import numpy\n",
    "import pystare"
   ]
  },
  {
   "cell_type": "code",
   "execution_count": 2,
   "metadata": {
    "collapsed": false,
    "jupyter": {
     "outputs_hidden": false
    },
    "pycharm": {
     "name": "#%%\n"
    }
   },
   "outputs": [],
   "source": [
    "proj = ccrs.PlateCarree()\n",
    "transf = ccrs.PlateCarree()"
   ]
  },
  {
   "cell_type": "code",
   "execution_count": 3,
   "metadata": {
    "collapsed": false,
    "jupyter": {
     "outputs_hidden": false
    },
    "pycharm": {
     "name": "#%%\n"
    }
   },
   "outputs": [],
   "source": [
    "def plot1(lon, lat, lons, lats, triang, c0='r', c1='b', transf=None, lw=1, ax=None):\n",
    "    if lon is not None and ax is not None:\n",
    "        x = numpy.zeros([lon.size + 1], dtype=numpy.double)\n",
    "        x[:-1] = lon[:]\n",
    "        x[-1] = lon[0]\n",
    "        y = numpy.zeros([lat.size + 1], dtype=numpy.double)\n",
    "        y[:-1] = lat[:]\n",
    "        y[-1] = lat[0]\n",
    "        ax.plot(x, y, True, transform=transf, c=c0)\n",
    "    ax.triplot(triang, c1 + '-', transform=transf, lw=lw, markersize=3)\n",
    "    ax.scatter(lons, lats, s=10, c=c1, transform=ccrs.PlateCarree())\n",
    "    return"
   ]
  },
  {
   "cell_type": "code",
   "execution_count": 7,
   "metadata": {},
   "outputs": [],
   "source": [
    "resolution = 6\n",
    "resolution0 = resolution\n",
    "lat0 = numpy.array([10, 5, 60, 70], dtype=numpy.double)\n",
    "lon0 = numpy.array([-30, -20, 60, 10], dtype=numpy.double)\n",
    "hull0 = pystare.cover_from_hull(lat0, lon0, resolution0)\n",
    "\n",
    "lons0, lats0, intmat0 = pystare.triangulate_indices(hull0)\n",
    "triang0 = tri.Triangulation(lons0, lats0, intmat0)"
   ]
  },
  {
   "cell_type": "code",
   "execution_count": null,
   "metadata": {},
   "outputs": [],
   "source": [
    "resolution1 = 6\n",
    "lat1 = numpy.array([10, 20, 30, 20], dtype=numpy.double)\n",
    "lon1 = numpy.array([-60, 60, 60, -60], dtype=numpy.double)\n",
    "hull1 = pystare.cover_from_hull(lat1, lon1, resolution1)\n",
    "\n",
    "lons1, lats1, intmat1 = pystare.triangulate_indices(hull1)\n",
    "triang1 = tri.Triangulation(lons1, lats1, intmat1)"
   ]
  },
  {
   "cell_type": "code",
   "execution_count": 11,
   "metadata": {
    "collapsed": false,
    "jupyter": {
     "outputs_hidden": false
    },
    "pycharm": {
     "name": "#%%\n"
    }
   },
   "outputs": [
    {
     "name": "stdout",
     "output_type": "stream",
     "text": [
      "r01 n01:  79\n"
     ]
    },
    {
     "data": {
      "image/png": "[encoded data removed]",
      "text/plain": [
       "<Figure size 432x288 with 4 Axes>"
      ]
     },
     "metadata": {
      "needs_background": "light"
     },
     "output_type": "display_data"
    }
   ],
   "source": [
    "fig, axs = plt.subplots(4, subplot_kw={'projection': proj, 'transform': transf})\n",
    "\n",
    "ax = axs[0]\n",
    "ax.coastlines()\n",
    "\n",
    "plot1(None, None, lons0, lats0, triang0, c0='r', c1='b', transf=transf, ax=ax)\n",
    "plot1(None, None, lons1, lats1, triang1, c0='c', c1='r', transf=transf, ax=ax)\n",
    "\n",
    "intersectedFalse = pystare.intersection(hull0, hull1, multi_resolution=False)\n",
    "intersectedTrue = pystare.intersection(hull0, hull1, multi_resolution=True)\n",
    "\n",
    "ax = axs[1]\n",
    "ax.coastlines()\n",
    "\n",
    "lonsF, latsF, intmatF = pystare.triangulate_indices(intersectedFalse)\n",
    "triangF = tri.Triangulation(lonsF, latsF, intmatF)\n",
    "plot1(None, None, lonsF, latsF, triangF, c0='r', c1='b', transf=transf, ax=ax)\n",
    "\n",
    "ax = axs[2]\n",
    "ax.coastlines()\n",
    "lonsT, latsT, intmatT = pystare.triangulate_indices(intersectedTrue)\n",
    "triangT = tri.Triangulation(lonsT, latsT, intmatT)\n",
    "plot1(None, None, lonsT, latsT, triangT, c0='r', c1='b', transf=transf, ax=ax)\n",
    "\n",
    "r0 = pystare.core.srange()\n",
    "r0.add_intervals(hull0)\n",
    "\n",
    "r1 = pystare.core.srange()\n",
    "r1.add_intervals(hull1)\n",
    "\n",
    "r01 = pystare.core.srange()\n",
    "r01.add_intersect(r0, r1, False)\n",
    "n01 = r01.get_size_as_values()\n",
    "\n",
    "intersected = numpy.zeros([n01], dtype=numpy.int64)\n",
    "r01.copy_values(intersected)\n",
    "# See examples/test_intersect_single_res.py\n",
    "\n",
    "r01.purge()\n",
    "n01 = r01.get_size_as_values()\n",
    "\n",
    "r01.reset()\n",
    "r01.add_intersect(r0, r1, True)\n",
    "n01 = r01.get_size_as_values()\n",
    "\n",
    "print('r01 n01: ', n01)\n",
    "\n",
    "intersected = numpy.zeros([n01], dtype=numpy.int64)\n",
    "r01.copy_values(intersected)\n",
    "\n",
    "###??? Would intervals be different?\n",
    "\n",
    "lonsRT, latsRT, intmatRT = pystare.triangulate_indices(intersected)\n",
    "triangRT = tri.Triangulation(lonsRT, latsRT, intmatRT)\n",
    "ax = axs[3]\n",
    "\n",
    "ax.coastlines()\n",
    "\n",
    "lonsRT_, latsRT_, intmatRT_ = pystare.triangulate_indices(intersected[51:55])\n",
    "triangRT_ = tri.Triangulation(lonsRT_, latsRT_, intmatRT_)\n",
    "\n",
    "plot1(None, None, lonsRT_, latsRT_, triangRT_, c0='g', c1='g', transf=transf, ax=ax)"
   ]
  }
 ],
 "metadata": {
  "kernelspec": {
   "display_name": "Python 3 (ipykernel)",
   "language": "python",
   "name": "python3"
  },
  "language_info": {
   "codemirror_mode": {
    "name": "ipython",
    "version": 3
   },
   "file_extension": ".py",
   "mimetype": "text/x-python",
   "name": "python",
   "nbconvert_exporter": "python",
   "pygments_lexer": "ipython3",
   "version": "3.8.10"
  }
 },
 "nbformat": 4,
 "nbformat_minor": 4
}
